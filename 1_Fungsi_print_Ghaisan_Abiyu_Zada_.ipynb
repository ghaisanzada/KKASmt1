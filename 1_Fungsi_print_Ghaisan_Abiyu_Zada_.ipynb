{
  "nbformat": 4,
  "nbformat_minor": 0,
  "metadata": {
    "colab": {
      "provenance": [],
      "authorship_tag": "ABX9TyOtrw+9qejSIMQjJvGuIXaA",
      "include_colab_link": true
    },
    "kernelspec": {
      "name": "python3",
      "display_name": "Python 3"
    },
    "language_info": {
      "name": "python"
    }
  },
  "cells": [
    {
      "cell_type": "markdown",
      "metadata": {
        "id": "view-in-github",
        "colab_type": "text"
      },
      "source": [
        "<a href=\"https://colab.research.google.com/github/ghaisanzada/KKASmt1/blob/main/1_Fungsi_print_Ghaisan_Abiyu_Zada_.ipynb\" target=\"_parent\"><img src=\"https://colab.research.google.com/assets/colab-badge.svg\" alt=\"Open In Colab\"/></a>"
      ]
    },
    {
      "cell_type": "markdown",
      "source": [
        "# Menampilkan Teks Bebas"
      ],
      "metadata": {
        "id": "MiJTup7bGVdB"
      }
    },
    {
      "cell_type": "code",
      "execution_count": null,
      "metadata": {
        "colab": {
          "base_uri": "https://localhost:8080/"
        },
        "id": "mnRkN1KOFAsy",
        "outputId": "d7fcf874-88a4-46a8-f42b-10b992214fe0"
      },
      "outputs": [
        {
          "output_type": "stream",
          "name": "stdout",
          "text": [
            "Halo dunia\n"
          ]
        }
      ],
      "source": [
        "print(\"Halo dunia\")"
      ]
    },
    {
      "cell_type": "markdown",
      "source": [],
      "metadata": {
        "id": "gzuZRMTE_n2J"
      }
    },
    {
      "cell_type": "code",
      "source": [
        "print(\"selamat datang di phyton\")"
      ],
      "metadata": {
        "id": "L_QmFvBXFtMI",
        "colab": {
          "base_uri": "https://localhost:8080/"
        },
        "outputId": "1e5f274b-cb51-468e-807c-5042450fbb88"
      },
      "execution_count": null,
      "outputs": [
        {
          "output_type": "stream",
          "name": "stdout",
          "text": [
            "selamat datang di phyton\n"
          ]
        }
      ]
    },
    {
      "cell_type": "markdown",
      "source": [],
      "metadata": {
        "id": "0ygTi7G3_uVu"
      }
    },
    {
      "cell_type": "code",
      "source": [
        "print('ghaisan abiyu zada')"
      ],
      "metadata": {
        "colab": {
          "base_uri": "https://localhost:8080/"
        },
        "id": "CA5PrjmZF8-P",
        "outputId": "fd80f41e-9b0a-4347-8682-6bfb124cf88d"
      },
      "execution_count": null,
      "outputs": [
        {
          "output_type": "stream",
          "name": "stdout",
          "text": [
            "ghaisan abiyu zada\n"
          ]
        }
      ]
    },
    {
      "cell_type": "markdown",
      "source": [
        "# Menampilkan nilai variabel"
      ],
      "metadata": {
        "id": "P3CbEVDsHrlS"
      }
    },
    {
      "cell_type": "code",
      "source": [
        "BB = 50\n",
        "print(BB)"
      ],
      "metadata": {
        "colab": {
          "base_uri": "https://localhost:8080/"
        },
        "id": "H_21zf_qHw_O",
        "outputId": "503c0f92-58eb-40a1-ff99-a82312bd5f2a"
      },
      "execution_count": null,
      "outputs": [
        {
          "output_type": "stream",
          "name": "stdout",
          "text": [
            "50\n"
          ]
        }
      ]
    },
    {
      "cell_type": "code",
      "source": [
        "umur = 16\n",
        "print(umur)"
      ],
      "metadata": {
        "colab": {
          "base_uri": "https://localhost:8080/"
        },
        "id": "3zzfIQ2TIWBZ",
        "outputId": "0fafef44-aa7b-413a-ad26-4fe007248b6f"
      },
      "execution_count": null,
      "outputs": [
        {
          "output_type": "stream",
          "name": "stdout",
          "text": [
            "16\n"
          ]
        }
      ]
    },
    {
      "cell_type": "code",
      "source": [
        "nama = \"Ghaisan Abiyu Zada\""
      ],
      "metadata": {
        "id": "4lYunXiIKBO9"
      },
      "execution_count": null,
      "outputs": []
    },
    {
      "cell_type": "markdown",
      "source": [
        "# menampilkan teks bebas dan variabel"
      ],
      "metadata": {
        "id": "yFwqqAKsIvfP"
      }
    },
    {
      "cell_type": "code",
      "source": [
        "print(f\"umur saya {umur} tahun\")"
      ],
      "metadata": {
        "colab": {
          "base_uri": "https://localhost:8080/"
        },
        "id": "BbnQhMlYI2QN",
        "outputId": "ef817b61-987d-47da-d5df-47df91e8ef7f"
      },
      "execution_count": null,
      "outputs": [
        {
          "output_type": "stream",
          "name": "stdout",
          "text": [
            "umur saya 16 tahun\n"
          ]
        }
      ]
    },
    {
      "cell_type": "code",
      "source": [
        "print(\"halo\", nama)"
      ],
      "metadata": {
        "colab": {
          "base_uri": "https://localhost:8080/"
        },
        "id": "rKBQRvPRJ4Me",
        "outputId": "37cbbacb-8a31-4f2c-8e5f-1e43342f87ec"
      },
      "execution_count": null,
      "outputs": [
        {
          "output_type": "stream",
          "name": "stdout",
          "text": [
            "halo Ghaisan Abiyu Zada\n"
          ]
        }
      ]
    },
    {
      "cell_type": "code",
      "source": [
        "harga_telur = 26000\n",
        "print(\"Harga telur per 1 kg adalah\", harga_telur)"
      ],
      "metadata": {
        "colab": {
          "base_uri": "https://localhost:8080/"
        },
        "id": "vRliX1VoBmHS",
        "outputId": "4c341e1f-09c5-448c-ca3d-2f25f9685d01"
      },
      "execution_count": null,
      "outputs": [
        {
          "output_type": "stream",
          "name": "stdout",
          "text": [
            "Harga telur per 1 kg adalah 26000\n"
          ]
        }
      ]
    },
    {
      "cell_type": "code",
      "source": [
        "nama_pembeli = \"Rafael\"\n",
        "print(\"nama pembeli telur adalah\" + nama_pembeli)"
      ],
      "metadata": {
        "colab": {
          "base_uri": "https://localhost:8080/"
        },
        "id": "BwBhF7kbDLYX",
        "outputId": "82caa214-a5d6-45db-a6e8-114d2344476e"
      },
      "execution_count": null,
      "outputs": [
        {
          "output_type": "stream",
          "name": "stdout",
          "text": [
            "nama pembeli telur adalahRafael\n"
          ]
        }
      ]
    },
    {
      "cell_type": "code",
      "source": [
        "harga_telur = 26000\n",
        "print(\"Harga telur per 1 kg adalah\" + str(harga_telur))"
      ],
      "metadata": {
        "colab": {
          "base_uri": "https://localhost:8080/"
        },
        "id": "JKD2NrudE2Gi",
        "outputId": "45b69d8e-7761-4848-adc6-d53532245ec9"
      },
      "execution_count": null,
      "outputs": [
        {
          "output_type": "stream",
          "name": "stdout",
          "text": [
            "Harga telur per 1 kg adalah26000\n"
          ]
        }
      ]
    },
    {
      "cell_type": "markdown",
      "source": [
        "#Escape character"
      ],
      "metadata": {
        "id": "mcRD9EsXJJ90"
      }
    },
    {
      "cell_type": "code",
      "source": [
        "print(\"Nama : Ghaisan Abiyu Zada\")\n",
        "print(\"Kelas : XI.1\")\n",
        "print(\"Nomor Absen : 17\")"
      ],
      "metadata": {
        "colab": {
          "base_uri": "https://localhost:8080/"
        },
        "id": "I8d3wo-8JOFP",
        "outputId": "ba040c28-bdec-498f-ae1a-f307413cf7af"
      },
      "execution_count": null,
      "outputs": [
        {
          "output_type": "stream",
          "name": "stdout",
          "text": [
            "Nama : Ghaisan Abiyu Zada\n",
            "Kelas : XI.1\n",
            "Nomor Absen : 17\n"
          ]
        }
      ]
    },
    {
      "cell_type": "code",
      "source": [
        "print(\"Nama\\t\\t: Ghaisan Abiyu Zada\\nKelas\\t\\t: XI.1\\nNomor Absen\\t: 17\")"
      ],
      "metadata": {
        "colab": {
          "base_uri": "https://localhost:8080/"
        },
        "id": "YLffsPJsKUEb",
        "outputId": "7c0224e1-d30a-4e0e-e6ad-68b9b7e63914"
      },
      "execution_count": null,
      "outputs": [
        {
          "output_type": "stream",
          "name": "stdout",
          "text": [
            "Nama\t\t: Ghaisan Abiyu Zada\n",
            "Kelas\t\t: XI.1\n",
            "Nomor Absen\t: 17\n"
          ]
        }
      ]
    },
    {
      "cell_type": "code",
      "source": [
        "print(\"\"\"Nama : Ghaisan Abiyu Zada\n",
        "Kelas : XI.1\n",
        "Nomor Absen : 17\"\"\")"
      ],
      "metadata": {
        "colab": {
          "base_uri": "https://localhost:8080/"
        },
        "id": "fUeJOXaYK1rl",
        "outputId": "a4bb533e-12c0-428d-f5f5-dae4da6c5966"
      },
      "execution_count": null,
      "outputs": [
        {
          "output_type": "stream",
          "name": "stdout",
          "text": [
            "Nama : Ghaisan Abiyu Zada\n",
            "Kelas : XI.1\n",
            "Nomor Absen : 17\n"
          ]
        }
      ]
    },
    {
      "cell_type": "code",
      "source": [
        "print('Ja\\'far Shodiq')"
      ],
      "metadata": {
        "colab": {
          "base_uri": "https://localhost:8080/"
        },
        "id": "EYtUak2vCQ8N",
        "outputId": "5409d6c8-9664-41cc-a18a-2e5dd6a89ca4"
      },
      "execution_count": null,
      "outputs": [
        {
          "output_type": "stream",
          "name": "stdout",
          "text": [
            "Ja'far Shodiq\n"
          ]
        }
      ]
    },
    {
      "cell_type": "code",
      "source": [
        "print(\"Ja'far Shodiq\")"
      ],
      "metadata": {
        "colab": {
          "base_uri": "https://localhost:8080/"
        },
        "id": "B8T4Jcs3CiSh",
        "outputId": "55e04236-fd8f-4d6a-973e-0ea0b5915b69"
      },
      "execution_count": null,
      "outputs": [
        {
          "output_type": "stream",
          "name": "stdout",
          "text": [
            "Ja'far Shodiq\n"
          ]
        }
      ]
    },
    {
      "cell_type": "code",
      "source": [
        "print(\"Bu Shinta berkata, \\\"semua harus menyimak pelajaran.\\\"\")"
      ],
      "metadata": {
        "colab": {
          "base_uri": "https://localhost:8080/"
        },
        "id": "PX63BwN5Cpqo",
        "outputId": "71aef7a3-7f96-46bd-802b-f8a3727ef7e2"
      },
      "execution_count": null,
      "outputs": [
        {
          "output_type": "stream",
          "name": "stdout",
          "text": [
            "Bu Shinta berkata, \"semua harus menyimak pelajaran.\"\n"
          ]
        }
      ]
    },
    {
      "cell_type": "code",
      "source": [
        "print('Bu Shinta berkata, \"Semua harus menyimak pelajaran.\"')"
      ],
      "metadata": {
        "colab": {
          "base_uri": "https://localhost:8080/"
        },
        "id": "rTACert4Czb_",
        "outputId": "5f59beba-dd71-4877-c420-f927be15af89"
      },
      "execution_count": null,
      "outputs": [
        {
          "output_type": "stream",
          "name": "stdout",
          "text": [
            "Bu Shinta berkata, \"Semua harus menyimak pelajaran.\"\n"
          ]
        }
      ]
    },
    {
      "cell_type": "code",
      "source": [
        "print(\"lokasi file video karnaval ada di D:\\\\Karnaval 2025\\\\mp4\")"
      ],
      "metadata": {
        "colab": {
          "base_uri": "https://localhost:8080/"
        },
        "id": "RFFiqIF1DDpI",
        "outputId": "e0cfb43a-96cc-495c-ca84-b91f90d7624a"
      },
      "execution_count": null,
      "outputs": [
        {
          "output_type": "stream",
          "name": "stdout",
          "text": [
            "lokasi file video karnaval ada di D:\\Karnaval 2025\\mp4\n"
          ]
        }
      ]
    },
    {
      "cell_type": "markdown",
      "source": [
        "Latihan soal\n",
        "\n",
        "1. Tampilkan teks bebas : Hari ini saya bahagia belajar bahasa phyton\n",
        "2. Tampilkan nilai variabel : mata_pelajaran_favorit = kode dan kecerdasan buatan\n",
        "3. Tampilkan nilai variabel: nilai_kka = 100\n",
        "4. Tampilkan teks bebas dan nilai variabel dengan tiga metode (f string, \"+\", \",\"):\" Nilai KKA saya adalah {nilai_kka} loh!\""
      ],
      "metadata": {
        "id": "4EwxZe_OGpYD"
      }
    },
    {
      "cell_type": "code",
      "source": [
        "print(\"Hari ini saya bahagia belajar bahasa phyton\")"
      ],
      "metadata": {
        "colab": {
          "base_uri": "https://localhost:8080/"
        },
        "id": "l0XtJaPlHxNt",
        "outputId": "4d680f11-d7ab-44e5-cde0-f8d12ff014de"
      },
      "execution_count": null,
      "outputs": [
        {
          "output_type": "stream",
          "name": "stdout",
          "text": [
            "Hari ini saya bahagia belajar bahasa phyton\n"
          ]
        }
      ]
    },
    {
      "cell_type": "code",
      "source": [
        "mata_pelajaran_favorit = \"kode dan kecerdasan buatan\"\n",
        "print(mata_pelajaran_favorit)"
      ],
      "metadata": {
        "colab": {
          "base_uri": "https://localhost:8080/"
        },
        "id": "jqb7srLsIF0n",
        "outputId": "6c553afd-afd0-47b3-837a-455f90a55047"
      },
      "execution_count": null,
      "outputs": [
        {
          "output_type": "stream",
          "name": "stdout",
          "text": [
            "kode dan kecerdasan buatan\n"
          ]
        }
      ]
    },
    {
      "cell_type": "code",
      "source": [
        "nilai_kka = 100\n",
        "print(nilai_kka)"
      ],
      "metadata": {
        "colab": {
          "base_uri": "https://localhost:8080/"
        },
        "id": "u_7wVWiUIhKE",
        "outputId": "2ee203f7-3234-4d5d-f4d7-d14263248a68"
      },
      "execution_count": null,
      "outputs": [
        {
          "output_type": "stream",
          "name": "stdout",
          "text": [
            "100\n"
          ]
        }
      ]
    },
    {
      "cell_type": "code",
      "source": [
        "print(\"Nilai KKA saya adalah\", nilai_kka,\"loh!\")"
      ],
      "metadata": {
        "colab": {
          "base_uri": "https://localhost:8080/"
        },
        "id": "QF0InRTgI19p",
        "outputId": "645c197c-c853-4609-8ed2-d54bff633887"
      },
      "execution_count": null,
      "outputs": [
        {
          "output_type": "stream",
          "name": "stdout",
          "text": [
            "Nilai KKA saya adalah 100 loh!\n"
          ]
        }
      ]
    },
    {
      "cell_type": "code",
      "source": [
        "print(\"Nilai KKA saya adalah \"+str(nilai_kka)+\" loh!\")"
      ],
      "metadata": {
        "colab": {
          "base_uri": "https://localhost:8080/"
        },
        "id": "VZ96SJPpKEOy",
        "outputId": "4b5e46c5-f543-4b2b-bd3f-0ad9e9bd8324"
      },
      "execution_count": null,
      "outputs": [
        {
          "output_type": "stream",
          "name": "stdout",
          "text": [
            "Nilai KKA saya adalah 100 loh!\n"
          ]
        }
      ]
    },
    {
      "cell_type": "code",
      "source": [
        "print(f\"Nilai KKA saya adalah {nilai_kka} loh!\")"
      ],
      "metadata": {
        "colab": {
          "base_uri": "https://localhost:8080/"
        },
        "id": "qpSfEvwSKeHz",
        "outputId": "cca9ae0f-b628-4dd9-f8c1-ee998b1f6f27"
      },
      "execution_count": null,
      "outputs": [
        {
          "output_type": "stream",
          "name": "stdout",
          "text": [
            "Nilai KKA saya adalah 100 loh!\n"
          ]
        }
      ]
    },
    {
      "cell_type": "markdown",
      "source": [
        "#Parameter Fungsi Print"
      ],
      "metadata": {
        "id": "8Izj1LuZGoo3"
      }
    },
    {
      "cell_type": "code",
      "source": [
        "Tahun = 2008\n",
        "Bulan = \"Desember\"\n",
        "Tanggal = 27\n",
        "print(Tanggal, end=\" \")\n",
        "print(Bulan, end=\" \")\n",
        "print(Tahun)"
      ],
      "metadata": {
        "colab": {
          "base_uri": "https://localhost:8080/"
        },
        "id": "_ee_QTVXGwqU",
        "outputId": "6ee0abe1-bf78-431f-f1ae-1ab92a9514f1"
      },
      "execution_count": null,
      "outputs": [
        {
          "output_type": "stream",
          "name": "stdout",
          "text": [
            "27 Desember 2008\n"
          ]
        }
      ]
    },
    {
      "cell_type": "code",
      "source": [
        "Tahun = 2008\n",
        "Bulan = \"Desember\"\n",
        "Tanggal = 27\n",
        "print(Tanggal, Bulan, Tahun, sep=\"/\")"
      ],
      "metadata": {
        "colab": {
          "base_uri": "https://localhost:8080/"
        },
        "id": "lraVyZ-eHPbQ",
        "outputId": "9c2dd3e2-e918-4f4e-e33e-70a110b30a5d"
      },
      "execution_count": null,
      "outputs": [
        {
          "output_type": "stream",
          "name": "stdout",
          "text": [
            "27/Desember/2008\n"
          ]
        }
      ]
    },
    {
      "cell_type": "markdown",
      "source": [
        "#Latihan"
      ],
      "metadata": {
        "id": "_Omud0MXH568"
      }
    },
    {
      "cell_type": "code",
      "source": [
        "Nama_depan = \"Ghaisan\"\n",
        "Nama_belakang = \"Zada\"\n",
        "print(Nama_depan, Nama_belakang)"
      ],
      "metadata": {
        "colab": {
          "base_uri": "https://localhost:8080/"
        },
        "id": "d0WDJRAZH9dB",
        "outputId": "35eb7343-97d9-421f-f4e2-293f03c21ff0"
      },
      "execution_count": null,
      "outputs": [
        {
          "output_type": "stream",
          "name": "stdout",
          "text": [
            "Ghaisan Zada\n"
          ]
        }
      ]
    },
    {
      "cell_type": "code",
      "source": [
        "Nama_depan = \"Ghaisan\"\n",
        "Nama_belakang = \"Zada\"\n",
        "print(Nama_depan, end=\" \")\n",
        "print(Nama_belakang)"
      ],
      "metadata": {
        "colab": {
          "base_uri": "https://localhost:8080/"
        },
        "id": "PEiPlGeBIhwl",
        "outputId": "a7b38121-6a17-4f30-e339-fdcabb25aba6"
      },
      "execution_count": null,
      "outputs": [
        {
          "output_type": "stream",
          "name": "stdout",
          "text": [
            "Ghaisan Zada\n"
          ]
        }
      ]
    },
    {
      "cell_type": "code",
      "source": [
        "Tahun = 2008\n",
        "Bulan = \"Desember\"\n",
        "Tanggal = 27\n",
        "print(Tanggal, Bulan, Tahun, sep=\"-\")"
      ],
      "metadata": {
        "colab": {
          "base_uri": "https://localhost:8080/"
        },
        "id": "03QX3EbPHghe",
        "outputId": "47d26d62-2678-412f-ca6f-28d863b2fa99"
      },
      "execution_count": null,
      "outputs": [
        {
          "output_type": "stream",
          "name": "stdout",
          "text": [
            "27-Desember-2008\n"
          ]
        }
      ]
    },
    {
      "cell_type": "code",
      "source": [
        "print('Bu Shinta berkata, \\\"berikut adalah judul pelajaran hari senin selasa rabu silahkan disimpan di laptop masing-masing di folder local disk D:\\\\Jadwal Pelajaran\\\\Kelas XI Semester I\\\"\\n')\n",
        "print(\"Jadwal Pelajaran Mingguan\")\n",
        "print(\"==========================\")\n",
        "print(\"Jam\\tsenin\\t\\tselasa\\t\\trabu\")\n",
        "print(\"Jam 1\\tMatematika\\tBahasa\\t\\tInformatika\")\n",
        "print(\"Jam 2\\tBahasa Ing.\\tSejarah\\t\\tMa\\'rifatullah\")\n",
        "print(\"Jam 3\\tInformatika\\tOlahraga\\tBiologi\")"
      ],
      "metadata": {
        "colab": {
          "base_uri": "https://localhost:8080/"
        },
        "id": "3SJstNKFLyCy",
        "outputId": "0ff407d1-df2b-49f9-969e-6344e7d5666a"
      },
      "execution_count": null,
      "outputs": [
        {
          "output_type": "stream",
          "name": "stdout",
          "text": [
            "Bu Shinta berkata, \"berikut adalah judul pelajaran hari senin selasa rabu silahkan disimpan di laptop masing-masing di folder local disk D:\\Jadwal Pelajaran\\Kelas XI Semester I\"\n",
            "\n",
            "Jadwal Pelajaran Mingguan\n",
            "==========================\n",
            "Jam\tsenin\t\tselasa\t\trabu\n",
            "Jam 1\tMatematika\tBahasa\t\tInformatika\n",
            "Jam 2\tBahasa Ing.\tSejarah\t\tMa'rifatullah\n",
            "Jam 3\tInformatika\tOlahraga\tBiologi\n"
          ]
        }
      ]
    },
    {
      "cell_type": "markdown",
      "source": [
        "#Parameter Fungsi"
      ],
      "metadata": {
        "id": "I92r8wY7FNyw"
      }
    },
    {
      "cell_type": "code",
      "source": [
        "nama_siswa_1 = \"Favian\"\n",
        "nama_siswa_2 = \"Naufal\"\n",
        "nama_siswa_3 = \"Humaira\"\n",
        "\n",
        "print(nama_siswa_2, nama_siswa_1, nama_siswa_3, nama_siswa_1, sep=\"~\")"
      ],
      "metadata": {
        "colab": {
          "base_uri": "https://localhost:8080/"
        },
        "id": "eDyOmRjYE7lS",
        "outputId": "39aea7f1-6959-4be1-a7d4-81850a7c9fda"
      },
      "execution_count": null,
      "outputs": [
        {
          "output_type": "stream",
          "name": "stdout",
          "text": [
            "Naufal~Favian~Humaira~Favian\n"
          ]
        }
      ]
    },
    {
      "cell_type": "code",
      "source": [
        "print(nama_siswa_2, end=\"~\")\n",
        "print(nama_siswa_1)\n",
        "print(nama_siswa_3, end=\"~\")\n",
        "print(nama_siswa_1)"
      ],
      "metadata": {
        "colab": {
          "base_uri": "https://localhost:8080/"
        },
        "id": "T7-5Zh-1F66Z",
        "outputId": "6ce24abb-21d8-4a44-cad9-2906e5267577"
      },
      "execution_count": null,
      "outputs": [
        {
          "output_type": "stream",
          "name": "stdout",
          "text": [
            "Naufal~Favian\n",
            "Humaira~Favian\n"
          ]
        }
      ]
    }
  ]
}